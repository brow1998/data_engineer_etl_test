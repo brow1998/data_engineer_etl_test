{
 "cells": [
  {
   "cell_type": "code",
   "execution_count": 1,
   "metadata": {},
   "outputs": [],
   "source": [
    "import pandas as pd \n",
    "from pandas.io.json import json_normalize\n",
    "from pathlib import Path\n",
    "\n",
    "p = Path('.').cwd()\n",
    "raw_data = p / 'raw_data'\n",
    "treated_data = p / 'treated_data'\n",
    "\n",
    "def max_len_on(df, field):\n",
    "    return df[field].map(str).apply(len).max()"
   ]
  },
  {
   "cell_type": "markdown",
   "metadata": {},
   "source": [
    "# Cleaning Datasets"
   ]
  },
  {
   "cell_type": "markdown",
   "metadata": {},
   "source": [
    "## GS1 "
   ]
  },
  {
   "cell_type": "code",
   "execution_count": 2,
   "metadata": {},
   "outputs": [],
   "source": [
    "    gs1 = pd.read_json(raw_data / 'gs1.jl', lines=True)\n",
    "    gs1_responses = pd.io.json.json_normalize(gs1.response)\n",
    "    gtins = pd.merge(gs1, gs1_responses, left_index=True, right_index=True)    \n",
    "    \n",
    "    gtins = gtins.rename(columns={'cnpj_manufacturer':'cnpj',\n",
    "                                  'gepirParty.partyDataLine.address.city':'city',\n",
    "                                  'gepirParty.partyDataLine.address.state':'state'})\n",
    "    \n",
    "    max_gtin = max_len_on(gtins, 'gtin')\n",
    "    max_cnpj = max_len_on(gtins, 'cnpj')\n",
    "\n",
    "    gtins = gtins[(gtins['status'] == 'OK') & (gtins['cnpj'].notnull())]\n",
    "\n",
    "    gtins['gtin'] = gtins['gtin'].map(str).apply(lambda x: x.zfill(max_gtin))\n",
    "    gtins['cnpj'] = gtins['cnpj'].map(int).map(str).apply(lambda x: x.zfill(max_gtin))\n",
    "\n",
    "    gtins[['cnpj','gtin', 'city', 'state']].to_csv(treated_data / 'gs1_treated.csv', index=False)"
   ]
  },
  {
   "cell_type": "markdown",
   "metadata": {},
   "source": [
    "## Infomix"
   ]
  },
  {
   "cell_type": "code",
   "execution_count": 3,
   "metadata": {},
   "outputs": [],
   "source": [
    "    infomix = pd.read_csv(raw_data / 'infomix.tsv', sep='\\t')\n",
    "\n",
    "    max_cnpj = max_len_on(infomix, 'cnpj')\n",
    "    max_gtin = max_len_on(infomix, 'gtin')\n",
    "\n",
    "    infomix['category'] = infomix.category.str.upper()\n",
    "    infomix['cnpj'] = infomix['cnpj'].map(str).apply(lambda x: x.zfill(max_cnpj))\n",
    "    infomix['gtin'] = infomix['gtin'].map(str).apply(lambda x: x.zfill(max_gtin))\n",
    "\n",
    "    infomix.to_csv(treated_data / 'infomix_treated.csv', index=False)\n"
   ]
  },
  {
   "cell_type": "markdown",
   "metadata": {},
   "source": [
    "## Cosmos"
   ]
  },
  {
   "cell_type": "code",
   "execution_count": 4,
   "metadata": {},
   "outputs": [],
   "source": [
    "    cosmos = pd.read_json(raw_data / 'cosmos.jl', lines=True)\n",
    "    cosmos_responses = pd.io.json.json_normalize(cosmos.response)\n",
    "    cosmos_full = pd.merge(cosmos, cosmos_responses, left_index=True, right_index=True) \n",
    "\n",
    "    cosmos_full = cosmos_full[cosmos_full['status'] == 'OK']\n",
    "    cosmos_full = cosmos_full[['gtin_y','description']].rename(columns={'gtin_y':'gtin'})\n",
    "    \n",
    "    cosmos_full.to_csv(treated_data / 'cosmos_treated.csv',index=False)"
   ]
  },
  {
   "cell_type": "code",
   "execution_count": 5,
   "metadata": {},
   "outputs": [
    {
     "name": "stdout",
     "output_type": "stream",
     "text": [
      "<class 'pandas.core.frame.DataFrame'>\n",
      "RangeIndex: 20588 entries, 0 to 20587\n",
      "Data columns (total 11 columns):\n",
      "autited            9676 non-null object\n",
      "brand              4349 non-null object\n",
      "description        9676 non-null object\n",
      "gcp.code           2392 non-null object\n",
      "gcp.description    2392 non-null object\n",
      "gtin               9713 non-null object\n",
      "image              8245 non-null object\n",
      "ncm.code           8896 non-null object\n",
      "ncm.description    8896 non-null object\n",
      "status             20588 non-null object\n",
      "units              9713 non-null object\n",
      "dtypes: object(11)\n",
      "memory usage: 1.7+ MB\n"
     ]
    }
   ],
   "source": [
    "cosmos_responses.info()"
   ]
  },
  {
   "cell_type": "markdown",
   "metadata": {},
   "source": [
    "## CNPJs"
   ]
  },
  {
   "cell_type": "code",
   "execution_count": 6,
   "metadata": {},
   "outputs": [
    {
     "data": {
      "text/html": [
       "<div>\n",
       "<style scoped>\n",
       "    .dataframe tbody tr th:only-of-type {\n",
       "        vertical-align: middle;\n",
       "    }\n",
       "\n",
       "    .dataframe tbody tr th {\n",
       "        vertical-align: top;\n",
       "    }\n",
       "\n",
       "    .dataframe thead th {\n",
       "        text-align: right;\n",
       "    }\n",
       "</style>\n",
       "<table border=\"1\" class=\"dataframe\">\n",
       "  <thead>\n",
       "    <tr style=\"text-align: right;\">\n",
       "      <th></th>\n",
       "      <th>name</th>\n",
       "      <th>cnpj</th>\n",
       "      <th>city</th>\n",
       "      <th>state</th>\n",
       "    </tr>\n",
       "  </thead>\n",
       "  <tbody>\n",
       "    <tr>\n",
       "      <th>0</th>\n",
       "      <td>FROOTY COMERCIO E INDUSTRIA DE ALIMENTOS S.A.</td>\n",
       "      <td>68093095000179</td>\n",
       "      <td>ATIBAIA</td>\n",
       "      <td>SP</td>\n",
       "    </tr>\n",
       "    <tr>\n",
       "      <th>1</th>\n",
       "      <td>ESTRELLA DE GALICIA IMPORTACAO E COMERCIALIZAC...</td>\n",
       "      <td>13492669000190</td>\n",
       "      <td>SAO PAULO</td>\n",
       "      <td>SP</td>\n",
       "    </tr>\n",
       "    <tr>\n",
       "      <th>2</th>\n",
       "      <td>DROGARIA NOVA SABARA LTDA</td>\n",
       "      <td>74683392000177</td>\n",
       "      <td>SAO PAULO</td>\n",
       "      <td>SP</td>\n",
       "    </tr>\n",
       "    <tr>\n",
       "      <th>3</th>\n",
       "      <td>DJ INDUSTRIA E COMERCIO DE ALIMENTOS LTDA</td>\n",
       "      <td>12423658000195</td>\n",
       "      <td>CARPINA</td>\n",
       "      <td>PE</td>\n",
       "    </tr>\n",
       "    <tr>\n",
       "      <th>4</th>\n",
       "      <td>FUGINI ALIMENTOS LTDA</td>\n",
       "      <td>00588458000103</td>\n",
       "      <td>MONTE ALTO</td>\n",
       "      <td>SP</td>\n",
       "    </tr>\n",
       "  </tbody>\n",
       "</table>\n",
       "</div>"
      ],
      "text/plain": [
       "                                                name            cnpj  \\\n",
       "0      FROOTY COMERCIO E INDUSTRIA DE ALIMENTOS S.A.  68093095000179   \n",
       "1  ESTRELLA DE GALICIA IMPORTACAO E COMERCIALIZAC...  13492669000190   \n",
       "2                          DROGARIA NOVA SABARA LTDA  74683392000177   \n",
       "3          DJ INDUSTRIA E COMERCIO DE ALIMENTOS LTDA  12423658000195   \n",
       "4                              FUGINI ALIMENTOS LTDA  00588458000103   \n",
       "\n",
       "         city state  \n",
       "0     ATIBAIA    SP  \n",
       "1   SAO PAULO    SP  \n",
       "2   SAO PAULO    SP  \n",
       "3     CARPINA    PE  \n",
       "4  MONTE ALTO    SP  "
      ]
     },
     "execution_count": 6,
     "metadata": {},
     "output_type": "execute_result"
    }
   ],
   "source": [
    "    cnpjs = pd.read_json(raw_data / 'cnpjs_receita_federal.jl', lines=True)\n",
    "    cnpjs_responses = pd.io.json.json_normalize(cnpjs.response)\n",
    "    cnpjs_full = pd.merge(cnpjs, cnpjs_responses, left_index=True, right_index=True) \n",
    "    \n",
    "    cnpjs_full = cnpjs_full[cnpjs_full['situacao'] == 'ATIVA']\n",
    "    cnpjs_full = cnpjs_full[['nome','cnpj_x','municipio','uf']].rename(columns={'cnpj_x':'cnpj', 'uf':'state', 'municipio':'city', 'nome':'name'})\n",
    "\n",
    "    max_cnpj = max_len_on(cnpjs_full, 'cnpj')\n",
    "    \n",
    "    cnpjs_full['cnpj'] = cnpjs_full['cnpj'].map(int).map(str).apply(lambda x: x.zfill(max_cnpj))\n",
    "\n",
    "    cnpjs_full.to_csv(treated_data / 'cnpjs_treated.csv', index=False)\n",
    "    \n",
    "    cnpjs_full.head()"
   ]
  },
  {
   "cell_type": "code",
   "execution_count": 7,
   "metadata": {},
   "outputs": [
    {
     "name": "stdout",
     "output_type": "stream",
     "text": [
      "<class 'pandas.core.frame.DataFrame'>\n",
      "Int64Index: 930 entries, 0 to 993\n",
      "Data columns (total 4 columns):\n",
      "name     930 non-null object\n",
      "cnpj     930 non-null object\n",
      "city     930 non-null object\n",
      "state    930 non-null object\n",
      "dtypes: object(4)\n",
      "memory usage: 36.3+ KB\n"
     ]
    }
   ],
   "source": [
    "cnpjs_full.info()"
   ]
  },
  {
   "cell_type": "markdown",
   "metadata": {},
   "source": [
    "# Merging Data"
   ]
  },
  {
   "cell_type": "markdown",
   "metadata": {},
   "source": [
    "## GS1 <> CNPJs"
   ]
  },
  {
   "cell_type": "code",
   "execution_count": 8,
   "metadata": {},
   "outputs": [],
   "source": [
    "    gs1 = pd.read_csv(treated_data / 'gs1_treated.csv')\n",
    "    cnpjs = pd.read_csv(treated_data / 'cnpjs_treated.csv')\n",
    "        \n",
    "    combined_data = pd.merge(left=gs1, right=cnpjs, how='left', on=['cnpj','state','city'])"
   ]
  },
  {
   "cell_type": "code",
   "execution_count": 9,
   "metadata": {},
   "outputs": [
    {
     "data": {
      "text/html": [
       "<div>\n",
       "<style scoped>\n",
       "    .dataframe tbody tr th:only-of-type {\n",
       "        vertical-align: middle;\n",
       "    }\n",
       "\n",
       "    .dataframe tbody tr th {\n",
       "        vertical-align: top;\n",
       "    }\n",
       "\n",
       "    .dataframe thead th {\n",
       "        text-align: right;\n",
       "    }\n",
       "</style>\n",
       "<table border=\"1\" class=\"dataframe\">\n",
       "  <thead>\n",
       "    <tr style=\"text-align: right;\">\n",
       "      <th></th>\n",
       "      <th>name</th>\n",
       "      <th>cnpj</th>\n",
       "      <th>city</th>\n",
       "      <th>state</th>\n",
       "    </tr>\n",
       "  </thead>\n",
       "  <tbody>\n",
       "    <tr>\n",
       "      <th>0</th>\n",
       "      <td>FROOTY COMERCIO E INDUSTRIA DE ALIMENTOS S.A.</td>\n",
       "      <td>68093095000179</td>\n",
       "      <td>ATIBAIA</td>\n",
       "      <td>SP</td>\n",
       "    </tr>\n",
       "    <tr>\n",
       "      <th>1</th>\n",
       "      <td>ESTRELLA DE GALICIA IMPORTACAO E COMERCIALIZAC...</td>\n",
       "      <td>13492669000190</td>\n",
       "      <td>SAO PAULO</td>\n",
       "      <td>SP</td>\n",
       "    </tr>\n",
       "    <tr>\n",
       "      <th>2</th>\n",
       "      <td>DROGARIA NOVA SABARA LTDA</td>\n",
       "      <td>74683392000177</td>\n",
       "      <td>SAO PAULO</td>\n",
       "      <td>SP</td>\n",
       "    </tr>\n",
       "    <tr>\n",
       "      <th>3</th>\n",
       "      <td>DJ INDUSTRIA E COMERCIO DE ALIMENTOS LTDA</td>\n",
       "      <td>12423658000195</td>\n",
       "      <td>CARPINA</td>\n",
       "      <td>PE</td>\n",
       "    </tr>\n",
       "    <tr>\n",
       "      <th>4</th>\n",
       "      <td>FUGINI ALIMENTOS LTDA</td>\n",
       "      <td>588458000103</td>\n",
       "      <td>MONTE ALTO</td>\n",
       "      <td>SP</td>\n",
       "    </tr>\n",
       "  </tbody>\n",
       "</table>\n",
       "</div>"
      ],
      "text/plain": [
       "                                                name            cnpj  \\\n",
       "0      FROOTY COMERCIO E INDUSTRIA DE ALIMENTOS S.A.  68093095000179   \n",
       "1  ESTRELLA DE GALICIA IMPORTACAO E COMERCIALIZAC...  13492669000190   \n",
       "2                          DROGARIA NOVA SABARA LTDA  74683392000177   \n",
       "3          DJ INDUSTRIA E COMERCIO DE ALIMENTOS LTDA  12423658000195   \n",
       "4                              FUGINI ALIMENTOS LTDA    588458000103   \n",
       "\n",
       "         city state  \n",
       "0     ATIBAIA    SP  \n",
       "1   SAO PAULO    SP  \n",
       "2   SAO PAULO    SP  \n",
       "3     CARPINA    PE  \n",
       "4  MONTE ALTO    SP  "
      ]
     },
     "execution_count": 9,
     "metadata": {},
     "output_type": "execute_result"
    }
   ],
   "source": [
    "cnpjs.head()"
   ]
  },
  {
   "cell_type": "code",
   "execution_count": 10,
   "metadata": {},
   "outputs": [
    {
     "data": {
      "text/html": [
       "<div>\n",
       "<style scoped>\n",
       "    .dataframe tbody tr th:only-of-type {\n",
       "        vertical-align: middle;\n",
       "    }\n",
       "\n",
       "    .dataframe tbody tr th {\n",
       "        vertical-align: top;\n",
       "    }\n",
       "\n",
       "    .dataframe thead th {\n",
       "        text-align: right;\n",
       "    }\n",
       "</style>\n",
       "<table border=\"1\" class=\"dataframe\">\n",
       "  <thead>\n",
       "    <tr style=\"text-align: right;\">\n",
       "      <th></th>\n",
       "      <th>cnpj</th>\n",
       "      <th>gtin</th>\n",
       "      <th>city</th>\n",
       "      <th>state</th>\n",
       "    </tr>\n",
       "  </thead>\n",
       "  <tbody>\n",
       "    <tr>\n",
       "      <th>0</th>\n",
       "      <td>60409075000152</td>\n",
       "      <td>7891000258491</td>\n",
       "      <td>SAO PAULO</td>\n",
       "      <td>SP</td>\n",
       "    </tr>\n",
       "    <tr>\n",
       "      <th>1</th>\n",
       "      <td>54360656001701</td>\n",
       "      <td>7898142863118</td>\n",
       "      <td>CAMPINAS</td>\n",
       "      <td>SP</td>\n",
       "    </tr>\n",
       "    <tr>\n",
       "      <th>2</th>\n",
       "      <td>14998371000119</td>\n",
       "      <td>7896005213018</td>\n",
       "      <td>FORTALEZA</td>\n",
       "      <td>CE</td>\n",
       "    </tr>\n",
       "    <tr>\n",
       "      <th>3</th>\n",
       "      <td>60409075000152</td>\n",
       "      <td>7891000107508</td>\n",
       "      <td>SAO PAULO</td>\n",
       "      <td>SP</td>\n",
       "    </tr>\n",
       "    <tr>\n",
       "      <th>4</th>\n",
       "      <td>4429377000111</td>\n",
       "      <td>7898292888436</td>\n",
       "      <td>SAO PAULO</td>\n",
       "      <td>SP</td>\n",
       "    </tr>\n",
       "  </tbody>\n",
       "</table>\n",
       "</div>"
      ],
      "text/plain": [
       "             cnpj           gtin       city state\n",
       "0  60409075000152  7891000258491  SAO PAULO    SP\n",
       "1  54360656001701  7898142863118   CAMPINAS    SP\n",
       "2  14998371000119  7896005213018  FORTALEZA    CE\n",
       "3  60409075000152  7891000107508  SAO PAULO    SP\n",
       "4   4429377000111  7898292888436  SAO PAULO    SP"
      ]
     },
     "execution_count": 10,
     "metadata": {},
     "output_type": "execute_result"
    }
   ],
   "source": [
    "gs1.head()"
   ]
  },
  {
   "cell_type": "code",
   "execution_count": 11,
   "metadata": {},
   "outputs": [],
   "source": [
    "combined_data = combined_data[combined_data['name'].notnull()]"
   ]
  },
  {
   "cell_type": "code",
   "execution_count": 12,
   "metadata": {},
   "outputs": [
    {
     "name": "stdout",
     "output_type": "stream",
     "text": [
      "<class 'pandas.core.frame.DataFrame'>\n",
      "Int64Index: 7462 entries, 0 to 9803\n",
      "Data columns (total 5 columns):\n",
      "cnpj     7462 non-null int64\n",
      "gtin     7462 non-null int64\n",
      "city     7462 non-null object\n",
      "state    7462 non-null object\n",
      "name     7462 non-null object\n",
      "dtypes: int64(2), object(3)\n",
      "memory usage: 349.8+ KB\n"
     ]
    }
   ],
   "source": [
    "combined_data.info()"
   ]
  },
  {
   "cell_type": "code",
   "execution_count": 13,
   "metadata": {},
   "outputs": [
    {
     "data": {
      "text/html": [
       "<div>\n",
       "<style scoped>\n",
       "    .dataframe tbody tr th:only-of-type {\n",
       "        vertical-align: middle;\n",
       "    }\n",
       "\n",
       "    .dataframe tbody tr th {\n",
       "        vertical-align: top;\n",
       "    }\n",
       "\n",
       "    .dataframe thead th {\n",
       "        text-align: right;\n",
       "    }\n",
       "</style>\n",
       "<table border=\"1\" class=\"dataframe\">\n",
       "  <thead>\n",
       "    <tr style=\"text-align: right;\">\n",
       "      <th></th>\n",
       "      <th>cnpj</th>\n",
       "      <th>gtin</th>\n",
       "      <th>city</th>\n",
       "      <th>state</th>\n",
       "      <th>name</th>\n",
       "    </tr>\n",
       "  </thead>\n",
       "  <tbody>\n",
       "    <tr>\n",
       "      <th>0</th>\n",
       "      <td>60409075000152</td>\n",
       "      <td>7891000258491</td>\n",
       "      <td>SAO PAULO</td>\n",
       "      <td>SP</td>\n",
       "      <td>NESTLE BRASIL LTDA.</td>\n",
       "    </tr>\n",
       "    <tr>\n",
       "      <th>1</th>\n",
       "      <td>60409075000152</td>\n",
       "      <td>7891000258491</td>\n",
       "      <td>SAO PAULO</td>\n",
       "      <td>SP</td>\n",
       "      <td>NESTLE BRASIL LTDA.</td>\n",
       "    </tr>\n",
       "    <tr>\n",
       "      <th>3</th>\n",
       "      <td>14998371000119</td>\n",
       "      <td>7896005213018</td>\n",
       "      <td>FORTALEZA</td>\n",
       "      <td>CE</td>\n",
       "      <td>J MACEDO S/A</td>\n",
       "    </tr>\n",
       "    <tr>\n",
       "      <th>4</th>\n",
       "      <td>60409075000152</td>\n",
       "      <td>7891000107508</td>\n",
       "      <td>SAO PAULO</td>\n",
       "      <td>SP</td>\n",
       "      <td>NESTLE BRASIL LTDA.</td>\n",
       "    </tr>\n",
       "    <tr>\n",
       "      <th>5</th>\n",
       "      <td>60409075000152</td>\n",
       "      <td>7891000107508</td>\n",
       "      <td>SAO PAULO</td>\n",
       "      <td>SP</td>\n",
       "      <td>NESTLE BRASIL LTDA.</td>\n",
       "    </tr>\n",
       "  </tbody>\n",
       "</table>\n",
       "</div>"
      ],
      "text/plain": [
       "             cnpj           gtin       city state                 name\n",
       "0  60409075000152  7891000258491  SAO PAULO    SP  NESTLE BRASIL LTDA.\n",
       "1  60409075000152  7891000258491  SAO PAULO    SP  NESTLE BRASIL LTDA.\n",
       "3  14998371000119  7896005213018  FORTALEZA    CE         J MACEDO S/A\n",
       "4  60409075000152  7891000107508  SAO PAULO    SP  NESTLE BRASIL LTDA.\n",
       "5  60409075000152  7891000107508  SAO PAULO    SP  NESTLE BRASIL LTDA."
      ]
     },
     "execution_count": 13,
     "metadata": {},
     "output_type": "execute_result"
    }
   ],
   "source": [
    "combined_data.head()"
   ]
  },
  {
   "cell_type": "code",
   "execution_count": 14,
   "metadata": {},
   "outputs": [],
   "source": [
    "combined_data.to_csv(treated_data/'valid_gtins.csv', index=False)"
   ]
  },
  {
   "cell_type": "markdown",
   "metadata": {},
   "source": [
    "## Valid GTINs <> Cosmos"
   ]
  },
  {
   "cell_type": "code",
   "execution_count": 15,
   "metadata": {},
   "outputs": [
    {
     "name": "stdout",
     "output_type": "stream",
     "text": [
      "<class 'pandas.core.frame.DataFrame'>\n",
      "RangeIndex: 9713 entries, 0 to 9712\n",
      "Data columns (total 2 columns):\n",
      "gtin           9713 non-null int64\n",
      "description    9672 non-null object\n",
      "dtypes: int64(1), object(1)\n",
      "memory usage: 151.8+ KB\n"
     ]
    }
   ],
   "source": [
    "cosmos = pd.read_csv(treated_data/'cosmos_treated.csv')\n",
    "cosmos.info()"
   ]
  },
  {
   "cell_type": "code",
   "execution_count": 16,
   "metadata": {},
   "outputs": [
    {
     "name": "stdout",
     "output_type": "stream",
     "text": [
      "<class 'pandas.core.frame.DataFrame'>\n",
      "RangeIndex: 7462 entries, 0 to 7461\n",
      "Data columns (total 5 columns):\n",
      "cnpj     7462 non-null int64\n",
      "gtin     7462 non-null int64\n",
      "city     7462 non-null object\n",
      "state    7462 non-null object\n",
      "name     7462 non-null object\n",
      "dtypes: int64(2), object(3)\n",
      "memory usage: 291.6+ KB\n"
     ]
    }
   ],
   "source": [
    "valid_gtins = pd.read_csv(treated_data/'valid_gtins.csv')\n",
    "valid_gtins.info()"
   ]
  },
  {
   "cell_type": "code",
   "execution_count": 17,
   "metadata": {},
   "outputs": [
    {
     "name": "stdout",
     "output_type": "stream",
     "text": [
      "<class 'pandas.core.frame.DataFrame'>\n",
      "Int64Index: 6022 entries, 2 to 7521\n",
      "Data columns (total 6 columns):\n",
      "cnpj           6022 non-null int64\n",
      "gtin           6022 non-null int64\n",
      "city           6022 non-null object\n",
      "state          6022 non-null object\n",
      "name           6022 non-null object\n",
      "description    6022 non-null object\n",
      "dtypes: int64(2), object(4)\n",
      "memory usage: 329.3+ KB\n"
     ]
    }
   ],
   "source": [
    "gtin_data = pd.merge(left=valid_gtins, right=cosmos, on='gtin', how='left')\n",
    "gtin_data = gtin_data[gtin_data['description'].notnull()]\n",
    "gtin_data.info()"
   ]
  },
  {
   "cell_type": "code",
   "execution_count": 18,
   "metadata": {},
   "outputs": [],
   "source": [
    "gtin_data.to_csv(treated_data/'gtin_data.csv', index=False)"
   ]
  },
  {
   "cell_type": "markdown",
   "metadata": {},
   "source": [
    "## GTIN Data <> Infomix"
   ]
  },
  {
   "cell_type": "code",
   "execution_count": 19,
   "metadata": {},
   "outputs": [
    {
     "name": "stdout",
     "output_type": "stream",
     "text": [
      "<class 'pandas.core.frame.DataFrame'>\n",
      "RangeIndex: 25844 entries, 0 to 25843\n",
      "Data columns (total 3 columns):\n",
      "cnpj        25844 non-null int64\n",
      "gtin        25844 non-null int64\n",
      "category    25844 non-null object\n",
      "dtypes: int64(2), object(1)\n",
      "memory usage: 605.8+ KB\n"
     ]
    }
   ],
   "source": [
    "infomix = pd.read_csv(treated_data/'infomix_treated.csv')\n",
    "infomix.info()"
   ]
  },
  {
   "cell_type": "code",
   "execution_count": 20,
   "metadata": {},
   "outputs": [
    {
     "name": "stdout",
     "output_type": "stream",
     "text": [
      "<class 'pandas.core.frame.DataFrame'>\n",
      "RangeIndex: 6022 entries, 0 to 6021\n",
      "Data columns (total 6 columns):\n",
      "cnpj           6022 non-null int64\n",
      "gtin           6022 non-null int64\n",
      "city           6022 non-null object\n",
      "state          6022 non-null object\n",
      "name           6022 non-null object\n",
      "description    6022 non-null object\n",
      "dtypes: int64(2), object(4)\n",
      "memory usage: 282.4+ KB\n"
     ]
    }
   ],
   "source": [
    "gtin_data = pd.read_csv(treated_data/'gtin_data.csv')\n",
    "gtin_data.info()"
   ]
  },
  {
   "cell_type": "code",
   "execution_count": 21,
   "metadata": {},
   "outputs": [
    {
     "data": {
      "text/plain": [
       "14"
      ]
     },
     "execution_count": 21,
     "metadata": {},
     "output_type": "execute_result"
    }
   ],
   "source": [
    "infomix.cnpj.map(str).apply(len).max()"
   ]
  },
  {
   "cell_type": "code",
   "execution_count": 22,
   "metadata": {},
   "outputs": [
    {
     "data": {
      "text/plain": [
       "14"
      ]
     },
     "execution_count": 22,
     "metadata": {},
     "output_type": "execute_result"
    }
   ],
   "source": [
    "gtin_data.cnpj.map(str).apply(len).max()"
   ]
  },
  {
   "cell_type": "code",
   "execution_count": 23,
   "metadata": {},
   "outputs": [
    {
     "name": "stdout",
     "output_type": "stream",
     "text": [
      "<class 'pandas.core.frame.DataFrame'>\n",
      "Int64Index: 15056 entries, 0 to 15055\n",
      "Data columns (total 8 columns):\n",
      "cnpj_x         15056 non-null int64\n",
      "gtin           15056 non-null int64\n",
      "category       15056 non-null object\n",
      "cnpj_y         15056 non-null int64\n",
      "city           15056 non-null object\n",
      "state          15056 non-null object\n",
      "name           15056 non-null object\n",
      "description    15056 non-null object\n",
      "dtypes: int64(3), object(5)\n",
      "memory usage: 1.0+ MB\n"
     ]
    }
   ],
   "source": [
    "final_df = pd.merge(infomix, gtin_data, how='inner',on='gtin')\n",
    "final_df.info()"
   ]
  },
  {
   "cell_type": "code",
   "execution_count": 24,
   "metadata": {},
   "outputs": [],
   "source": [
    "final_df = final_df.rename(columns={'cnpj_x':'cnpj_store', 'cnpj_y':'cnpj_manufacturer'})"
   ]
  },
  {
   "cell_type": "code",
   "execution_count": 25,
   "metadata": {},
   "outputs": [
    {
     "name": "stdout",
     "output_type": "stream",
     "text": [
      "<class 'pandas.core.frame.DataFrame'>\n",
      "Int64Index: 15056 entries, 0 to 15055\n",
      "Data columns (total 8 columns):\n",
      "cnpj_store           15056 non-null int64\n",
      "gtin                 15056 non-null int64\n",
      "category             15056 non-null object\n",
      "cnpj_manufacturer    15056 non-null int64\n",
      "city                 15056 non-null object\n",
      "state                15056 non-null object\n",
      "name                 15056 non-null object\n",
      "description          15056 non-null object\n",
      "dtypes: int64(3), object(5)\n",
      "memory usage: 1.0+ MB\n"
     ]
    }
   ],
   "source": [
    "final_df.info()"
   ]
  },
  {
   "cell_type": "code",
   "execution_count": 26,
   "metadata": {},
   "outputs": [],
   "source": [
    "final_df.to_csv(treated_data/'final_result.csv', index=False)"
   ]
  },
  {
   "cell_type": "markdown",
   "metadata": {},
   "source": [
    "# DONE!"
   ]
  }
 ],
 "metadata": {
  "kernelspec": {
   "display_name": "Python 3",
   "language": "python",
   "name": "python3"
  },
  "language_info": {
   "codemirror_mode": {
    "name": "ipython",
    "version": 3
   },
   "file_extension": ".py",
   "mimetype": "text/x-python",
   "name": "python",
   "nbconvert_exporter": "python",
   "pygments_lexer": "ipython3",
   "version": "3.6.6"
  }
 },
 "nbformat": 4,
 "nbformat_minor": 2
}
